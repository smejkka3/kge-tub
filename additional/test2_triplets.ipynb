{
 "cells": [
  {
   "cell_type": "code",
   "execution_count": 3,
   "metadata": {},
   "outputs": [],
   "source": [
    "import problog\n",
    "import pandas as pd\n",
    "\n",
    "from problog.program import PrologString\n",
    "from problog.core import ProbLog\n",
    "from problog import get_evaluatable\n",
    "from problog.logic import Var, Term"
   ]
  },
  {
   "cell_type": "code",
   "execution_count": 70,
   "metadata": {},
   "outputs": [],
   "source": [
    "triple = Term('triple')\n",
    "subclass = Term('subclassOf')\n",
    "type_ = Term('typeOf')\n",
    "subproperty = Term('subproperty')\n",
    "range_ = Term('range')\n",
    "domain_ = Term('domain')\n",
    "\n",
    "c = Term('c')\n",
    "x = Term('x')\n",
    "y = Term('y')\n",
    "z = Term('z')\n",
    "c1 = Term('c1')\n",
    "c2 = Term('c2')\n",
    "c3 = Term('c3')\n",
    "r = Term('r')\n",
    "r1 = Term('r1')\n",
    "r2 = Term('r2')\n",
    "r3 = Term('r3')\n",
    "\n",
    "C = Var('C')\n",
    "C3 = Var('C1')\n",
    "C2 = Var('C2')\n",
    "C1 = Var('C3')\n",
    "X = Var('X')\n",
    "Y = Var('Y')\n",
    "Z = Var('Z')\n",
    "R = Var('R')\n",
    "R1 = Var('R1')\n",
    "R2 = Var('R2')\n",
    "R3 = Var('R3')"
   ]
  },
  {
   "cell_type": "code",
   "execution_count": 71,
   "metadata": {},
   "outputs": [
    {
     "data": {
      "text/plain": [
       "{triple(x,typeOf,c): 1.0}"
      ]
     },
     "execution_count": 71,
     "metadata": {},
     "output_type": "execute_result"
    }
   ],
   "source": [
    "################################################################################\n",
    "## RDFS 2\n",
    "################################################################################\n",
    "\n",
    "triple(X, type_, C) << triple(R, domain_, C), triple(X, R, Y)\n",
    "\n",
    "rdfs2 = PrologString(f\"\"\"\n",
    "{triple}({r}, {domain_}, {c}).\n",
    "{triple}({x}, {r}, {y}).\n",
    "\n",
    "{triple}({X}, {type_}, {C}) :- {triple}({R}, {domain_}, {C}), {triple}({X}, {R}, {Y}).\n",
    "\n",
    "query({triple}({x}, {type_}, {c})).\n",
    "\"\"\")\n",
    "\n",
    "get_evaluatable().create_from(rdfs2).evaluate()\n"
   ]
  },
  {
   "cell_type": "code",
   "execution_count": 73,
   "metadata": {},
   "outputs": [
    {
     "data": {
      "text/plain": [
       "{triple(y,typeOf,c): 1.0}"
      ]
     },
     "execution_count": 73,
     "metadata": {},
     "output_type": "execute_result"
    }
   ],
   "source": [
    "################################################################################\n",
    "## RDFS 3\n",
    "################################################################################\n",
    "\n",
    "triple(Y, type_, C) << triple(R, range_, C), triple(X, R, Y)\n",
    "\n",
    "rdfs3 = PrologString(f\"\"\"\n",
    "{triple}({r}, {range_}, {c}).\n",
    "{triple}({x}, {r}, {y}).\n",
    "\n",
    "{triple}({Y}, {type_}, {C}) :- {triple}({R}, {range_}, {C}), {triple}({X}, {R}, {Y}).\n",
    "\n",
    "query({triple}({y}, {type_}, {c})).\n",
    "\"\"\")\n",
    "\n",
    "get_evaluatable().create_from(rdfs3).evaluate()\n"
   ]
  },
  {
   "cell_type": "code",
   "execution_count": 65,
   "metadata": {},
   "outputs": [
    {
     "data": {
      "text/plain": [
       "{triple(r1,subproperty,r3): 1.0}"
      ]
     },
     "execution_count": 65,
     "metadata": {},
     "output_type": "execute_result"
    }
   ],
   "source": [
    "################################################################################\n",
    "## RDFS 5\n",
    "################################################################################\n",
    "\n",
    "triple(R1, subproperty, R3) << triple(R1, subproperty, R2), triple(R2, subproperty, R3)\n",
    "\n",
    "rdfs5 = PrologString(f\"\"\"\n",
    "{triple}({r1}, {subproperty}, {r2}).\n",
    "{triple}({r2}, {subproperty}, {r3}).\n",
    "\n",
    "{triple}({X}, {subproperty}, {Z}) :- {triple}({X}, {subproperty}, {Y}), {triple}({Y}, {subproperty}, {Z}).\n",
    "\n",
    "query({triple}({r1}, {subproperty}, {r3})).\n",
    "\"\"\")\n",
    "\n",
    "get_evaluatable().create_from(rdfs5).evaluate()\n"
   ]
  },
  {
   "cell_type": "code",
   "execution_count": 59,
   "metadata": {},
   "outputs": [
    {
     "data": {
      "text/plain": [
       "{triple(x,r2,y): 1.0}"
      ]
     },
     "execution_count": 59,
     "metadata": {},
     "output_type": "execute_result"
    }
   ],
   "source": [
    "################################################################################\n",
    "## RDFS 7\n",
    "################################################################################\n",
    "\n",
    "triple(X, R2, Y) << triple(R1, subproperty, R2), triple(X, R1, Y)\n",
    "\n",
    "rdfs7 = PrologString(f\"\"\"\n",
    "{triple}({r1}, {subproperty}, {r2}).\n",
    "{triple}({x}, {r1}, {y}).\n",
    "\n",
    "{triple}({X}, {R2}, {Y}) :- {triple}({R1}, {subproperty}, {R2}), {triple}({X}, {R1}, {Y}).\n",
    "\n",
    "query({triple}({x}, {r2}, {y})).\n",
    "\"\"\")\n",
    "\n",
    "get_evaluatable().create_from(rdfs7).evaluate()\n"
   ]
  },
  {
   "cell_type": "code",
   "execution_count": 49,
   "metadata": {},
   "outputs": [
    {
     "data": {
      "text/plain": [
       "{triple(x,subclassOf,c2): 1.0}"
      ]
     },
     "execution_count": 49,
     "metadata": {},
     "output_type": "execute_result"
    }
   ],
   "source": [
    "################################################################################\n",
    "## RDFS 9\n",
    "################################################################################\n",
    "\n",
    "triple(X, type_, C2) << triple(C1, subclass, C2), triple(X, type_, C1)\n",
    "\n",
    "rdfs9 = PrologString(f\"\"\"\n",
    "{triple}({c1}, {subclass}, {c2}).\n",
    "{triple}({x}, {type_}, {c1}).\n",
    "\n",
    "{triple}({X}, {subclass}, {C2}) :- {triple}({C1}, {subclass}, {C2}), {triple}({X}, {type_}, {C1}).\n",
    "\n",
    "query({triple}({x}, {subclass}, {C2})).\n",
    "\"\"\")\n",
    "\n",
    "get_evaluatable().create_from(rdfs9).evaluate()\n"
   ]
  },
  {
   "cell_type": "code",
   "execution_count": 50,
   "metadata": {},
   "outputs": [
    {
     "data": {
      "text/plain": [
       "{triple(x,subclassOf,z): 1.0}"
      ]
     },
     "execution_count": 50,
     "metadata": {},
     "output_type": "execute_result"
    }
   ],
   "source": [
    "################################################################################\n",
    "## RDFS 11\n",
    "################################################################################\n",
    "\n",
    "triple(C1, subclass, C3) << triple(C1, subclass, C2), triple(C2, subclass, C3)\n",
    "\n",
    "rdfs11 = PrologString(f\"\"\"\n",
    "{triple}({x}, {subclass}, {y}).\n",
    "{triple}({y}, {subclass}, {z}).\n",
    "\n",
    "{triple}({X}, {subclass}, {Z}) :- {triple}({X}, {subclass}, {Y}), {triple}({Y}, {subclass}, {Z}).\n",
    "\n",
    "query({triple}({x}, {subclass}, {z})).\n",
    "\"\"\")\n",
    "\n",
    "get_evaluatable().create_from(rdfs11).evaluate()\n"
   ]
  },
  {
   "cell_type": "code",
   "execution_count": null,
   "metadata": {},
   "outputs": [],
   "source": []
  }
 ],
 "metadata": {
  "kernelspec": {
   "display_name": "Python 3.9.6 64-bit",
   "language": "python",
   "name": "python3"
  },
  "language_info": {
   "codemirror_mode": {
    "name": "ipython",
    "version": 3
   },
   "file_extension": ".py",
   "mimetype": "text/x-python",
   "name": "python",
   "nbconvert_exporter": "python",
   "pygments_lexer": "ipython3",
   "version": "3.9.6"
  },
  "orig_nbformat": 4,
  "vscode": {
   "interpreter": {
    "hash": "aee8b7b246df8f9039afb4144a1f6fd8d2ca17a180786b69acc140d282b71a49"
   }
  }
 },
 "nbformat": 4,
 "nbformat_minor": 2
}
