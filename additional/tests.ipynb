{
 "cells": [
  {
   "cell_type": "code",
   "execution_count": 2,
   "metadata": {},
   "outputs": [],
   "source": [
    "import problog\n",
    "import pandas as pd"
   ]
  },
  {
   "cell_type": "code",
   "execution_count": 3,
   "metadata": {},
   "outputs": [],
   "source": [
    "path = '/home/karel/Downloads/yago-wd-full-types(1).nt'\n",
    "\n",
    "df = pd.read_csv(path, sep='\\t',header=None,\n",
    "                         names=None,\n",
    "                         dtype=str,\n",
    "                         usecols=[0, 1, 2])\n",
    "df = df.drop_duplicates()\n",
    "\n",
    "triples = df.values\n",
    "# with open(path) as fin:\n",
    "#         entity2id = dict()\n",
    "#         id2entity = dict()\n",
    "#         for line in fin:\n",
    "#             print(line.strip().split('\\t'))\n",
    "#             h, r, t, _ = line.strip().split('\\t')\n",
    "#             print(h,r,t)\n",
    "#             # entity2id[entity] = int(eid)\n",
    "#             # id2entity[int(eid)] = entity\n"
   ]
  },
  {
   "cell_type": "code",
   "execution_count": 7,
   "metadata": {},
   "outputs": [],
   "source": [
    "path = '/home/karel/Downloads/yago-wd-schema.nt'\n",
    "\n",
    "df_schema = pd.read_csv(path, sep='\\t',header=None,\n",
    "                         names=None,\n",
    "                         dtype=str,\n",
    "                         usecols=[0, 1, 2])\n",
    "df_schema = df_schema.drop_duplicates()\n",
    "\n",
    "triples_schema = df_schema.values"
   ]
  },
  {
   "cell_type": "code",
   "execution_count": 8,
   "metadata": {},
   "outputs": [
    {
     "data": {
      "text/plain": [
       "array([['<http://yago-knowledge.org/resource/Harald_Ringstorff>',\n",
       "        '<http://www.w3.org/1999/02/22-rdf-syntax-ns#type>',\n",
       "        '<http://yago-knowledge.org/resource/Human>'],\n",
       "       ['<http://yago-knowledge.org/resource/Ecclesiastes>',\n",
       "        '<http://www.w3.org/1999/02/22-rdf-syntax-ns#type>',\n",
       "        '<http://yago-knowledge.org/resource/Religious_text>'],\n",
       "       ['<http://yago-knowledge.org/resource/Ecclesiastes>',\n",
       "        '<http://www.w3.org/1999/02/22-rdf-syntax-ns#type>',\n",
       "        '<http://schema.org/Book>'],\n",
       "       ...,\n",
       "       ['<http://yago-knowledge.org/resource/Dingyuan_Township,_Qu_County>',\n",
       "        '<http://www.w3.org/1999/02/22-rdf-syntax-ns#type>',\n",
       "        '<http://yago-knowledge.org/resource/Human_settlement>'],\n",
       "       ['<http://yago-knowledge.org/resource/Streatham_portrait>',\n",
       "        '<http://www.w3.org/1999/02/22-rdf-syntax-ns#type>',\n",
       "        '<http://schema.org/Painting>'],\n",
       "       ['<http://yago-knowledge.org/resource/The_Girl_from_Nagasaki>',\n",
       "        '<http://www.w3.org/1999/02/22-rdf-syntax-ns#type>',\n",
       "        '<http://schema.org/Movie>']], dtype=object)"
      ]
     },
     "execution_count": 8,
     "metadata": {},
     "output_type": "execute_result"
    }
   ],
   "source": [
    "triples"
   ]
  },
  {
   "cell_type": "code",
   "execution_count": 9,
   "metadata": {},
   "outputs": [
    {
     "data": {
      "text/plain": [
       "array([['<http://schema.org/Chapter>',\n",
       "        '<http://www.w3.org/1999/02/22-rdf-syntax-ns#type>',\n",
       "        '<http://www.w3.org/2002/07/owl#Class>'],\n",
       "       ['<http://schema.org/Chapter>',\n",
       "        '<http://www.w3.org/2000/01/rdf-schema#label>', 'chapter@en'],\n",
       "       ['<http://schema.org/Chapter>',\n",
       "        '<http://www.w3.org/2000/01/rdf-schema#comment>',\n",
       "        'One of the sections into which a book is divided. A chapter usually has a section number or a name.'],\n",
       "       ...,\n",
       "       ['_:schema-foundingDate-rdfs-range-owl-unionOf-xsd-date-xsd-dateTime-xsd-gYear-xsd-gYearMonth',\n",
       "        '<http://www.w3.org/1999/02/22-rdf-syntax-ns#type>',\n",
       "        '<http://www.w3.org/2000/01/rdf-schema#Datatype>'],\n",
       "       ['_:schema-foundingDate-rdfs-range-owl-unionOf-xsd-date-xsd-dateTime-xsd-gYear-xsd-gYearMonth',\n",
       "        '<http://www.w3.org/2002/07/owl#unionOf>',\n",
       "        '_:list-xsd-date-xsd-dateTime-xsd-gYear-xsd-gYearMonth-1'],\n",
       "       ['<http://schema.org/encodingFormat>',\n",
       "        '<http://www.w3.org/2000/01/rdf-schema#range>',\n",
       "        '<http://www.w3.org/2001/XMLSchema#string>']], dtype=object)"
      ]
     },
     "execution_count": 9,
     "metadata": {},
     "output_type": "execute_result"
    }
   ],
   "source": [
    "triples_schema"
   ]
  },
  {
   "cell_type": "code",
   "execution_count": 4,
   "metadata": {},
   "outputs": [],
   "source": [
    "from problog.program import PrologString\n",
    "from problog.core import ProbLog\n",
    "from problog import get_evaluatable\n",
    "from problog.logic import Var, Term\n",
    "\n",
    "# Functors (arguments will be added later)\n",
    "subclass = Term('subclassOf')\n",
    "subproperty = Term('subpropertyOf')\n",
    "type = Term('typeOf')\n",
    "range = Term('rangeOf')\n",
    "domain = Term('domainOf')\n",
    "\n",
    "\n",
    "# Literals\n",
    "x = Term(\"x\")\n",
    "y = Term(\"y\")\n",
    "\n",
    "c = Term(\"c\")\n",
    "c1 = Term(\"c1\")\n",
    "c2 = Term(\"c2\")\n",
    "c3 = Term(\"c3\")\n",
    "\n",
    "r = Term(\"r\")\n",
    "r1 = Term(\"r1\")\n",
    "r2 = Term(\"r2\")\n",
    "r3 = Term(\"r3\")\n",
    "\n",
    "# Variables\n",
    "triplet = Term(\"triplet\")\n",
    "X = Var('X')\n",
    "Y = Var('Y')\n",
    "Z = Var('Z')"
   ]
  },
  {
   "cell_type": "code",
   "execution_count": 6,
   "metadata": {},
   "outputs": [
    {
     "data": {
      "text/plain": [
       "{typeOf(x,c): 1.0}"
      ]
     },
     "execution_count": 6,
     "metadata": {},
     "output_type": "execute_result"
    }
   ],
   "source": [
    "\n",
    "################################################################################\n",
    "## RDFS 2\n",
    "################################################################################\n",
    "type(X,c) << domain(r,c), r(X,Y) \n",
    "\n",
    "rdfs2 = PrologString(f\"\"\"\n",
    "{domain}({r},{c}).\n",
    "{r}({x},{y}).\n",
    "\n",
    "{type}({X},{c}) :- {domain}({r},{c}), {r}({X},{Y}).\n",
    "\n",
    "query({type}({x},{c})).\n",
    "\"\"\")\n",
    "get_evaluatable().create_from(rdfs2).evaluate()"
   ]
  },
  {
   "cell_type": "code",
   "execution_count": 188,
   "metadata": {},
   "outputs": [
    {
     "data": {
      "text/plain": [
       "{typeOf(y,c): 1.0}"
      ]
     },
     "execution_count": 188,
     "metadata": {},
     "output_type": "execute_result"
    }
   ],
   "source": [
    "################################################################################\n",
    "## RDFS 3\n",
    "################################################################################\n",
    "type(Y,c) << range(r,c), r(X,Y) \n",
    "\n",
    "rdfs3 = PrologString(f\"\"\"\n",
    "{range}({r},{c}).\n",
    "{r}({x},{y}).\n",
    "\n",
    "{type}({Y},{c}) :- {range}({r},{c}), {r}({X},{Y}).\n",
    "\n",
    "query({type}({y},{c})).\n",
    "\"\"\")\n",
    "\n",
    "get_evaluatable().create_from(rdfs3).evaluate()"
   ]
  },
  {
   "cell_type": "code",
   "execution_count": 189,
   "metadata": {},
   "outputs": [
    {
     "name": "stdout",
     "output_type": "stream",
     "text": [
      "r1: r1\n",
      "r2: r2\n",
      "r3: r3\n"
     ]
    },
    {
     "data": {
      "text/plain": [
       "{subpropertyOf(r1,r3): 1.0}"
      ]
     },
     "execution_count": 189,
     "metadata": {},
     "output_type": "execute_result"
    }
   ],
   "source": [
    "################################################################################\n",
    "## RDFS 5\n",
    "################################################################################\n",
    "print(\"r1:\", r1)\n",
    "print(\"r2:\", r2)\n",
    "print(\"r3:\", r3)\n",
    "\n",
    "subproperty(r1,r3) << subproperty(r1,r2), subproperty(r2,r3)\n",
    "rdfs5 = PrologString(f\"\"\"\n",
    "{subproperty}({r1},{r2}).\n",
    "{subproperty}({r2},{r3}).\n",
    "\n",
    "{subproperty}({r1},{r3}) :- {subproperty}({r1},{r2}), {subproperty}({r2},{r3}).\n",
    "\n",
    "query({subproperty}({r1},{r3})).\n",
    "\"\"\")\n",
    "get_evaluatable().create_from(rdfs5).evaluate()"
   ]
  },
  {
   "cell_type": "code",
   "execution_count": 190,
   "metadata": {},
   "outputs": [
    {
     "data": {
      "text/plain": [
       "{r2(x,y): 1.0}"
      ]
     },
     "execution_count": 190,
     "metadata": {},
     "output_type": "execute_result"
    }
   ],
   "source": [
    "################################################################################\n",
    "## RDFS 7\n",
    "################################################################################\n",
    "r2(X,Y) << subproperty(r1,r2), r1(X,Y) \n",
    "\n",
    "rdfs7 = PrologString(f\"\"\"\n",
    "{r1}({x},{y}).\n",
    "{subproperty}({r1},{r2}).\n",
    "\n",
    "{r2}({X},{Y}) :- {subproperty}({r1},{r2}), {r1}({X},{Y}).\n",
    "\n",
    "query({r2}({x},{y})).\n",
    "\"\"\")\n",
    "\n",
    "get_evaluatable().create_from(rdfs7).evaluate()"
   ]
  },
  {
   "cell_type": "code",
   "execution_count": 191,
   "metadata": {},
   "outputs": [
    {
     "name": "stdout",
     "output_type": "stream",
     "text": [
      "c1: c1\n",
      "c2: c2\n",
      "x: x\n"
     ]
    },
    {
     "data": {
      "text/plain": [
       "{typeOf(x,c2): 1.0}"
      ]
     },
     "execution_count": 191,
     "metadata": {},
     "output_type": "execute_result"
    }
   ],
   "source": [
    "################################################################################\n",
    "## RDFS 9\n",
    "################################################################################\n",
    "print(\"c1:\", c1)\n",
    "print(\"c2:\", c2)\n",
    "print(\"x:\", x)\n",
    "type(X,c2) << subclass(c1,c2), type(X,c1) \n",
    "\n",
    "rdfs9 = PrologString(f\"\"\"\n",
    "{subclass}({c1},{c2}).\n",
    "{type}({x},{c1}).\n",
    "\n",
    "{type}({X},{c2}) :- {subclass}({c1},{c2}), {type}({X},{c1}).\n",
    "\n",
    "query({type}({x},{c2})).\n",
    "\"\"\")\n",
    "get_evaluatable().create_from(rdfs9).evaluate()"
   ]
  },
  {
   "cell_type": "code",
   "execution_count": 192,
   "metadata": {},
   "outputs": [
    {
     "name": "stdout",
     "output_type": "stream",
     "text": [
      "c1: c1\n",
      "c2: c2\n",
      "c3: c3\n"
     ]
    },
    {
     "data": {
      "text/plain": [
       "{subclassOf(c1,c3): 1.0}"
      ]
     },
     "execution_count": 192,
     "metadata": {},
     "output_type": "execute_result"
    }
   ],
   "source": [
    "################################################################################\n",
    "## RDFS 11\n",
    "################################################################################\n",
    "print(\"c1:\", c1)\n",
    "print(\"c2:\", c2)\n",
    "print(\"c3:\", c3)\n",
    "\n",
    "subclass(c1,c3) << subclass(c1,c2), subclass(c2,c3)\n",
    "rdfs11 = PrologString(f\"\"\"\n",
    "{subclass}({c1},{c2}).\n",
    "{subclass}({c2},{c3}).\n",
    "\n",
    "{subclass}({c1},{c3}) :- {subclass}({c1},{c2}), {subclass}({c2},{c3}).\n",
    "\n",
    "query({subclass}({c1},{c3})).\n",
    "\"\"\")\n",
    "\n",
    "get_evaluatable().create_from(rdfs11).evaluate()"
   ]
  },
  {
   "cell_type": "code",
   "execution_count": null,
   "metadata": {},
   "outputs": [],
   "source": []
  }
 ],
 "metadata": {
  "interpreter": {
   "hash": "916dbcbb3f70747c44a77c7bcd40155683ae19c65e1c03b4aa3499c5328201f1"
  },
  "kernelspec": {
   "display_name": "Python 3.8.10 64-bit",
   "language": "python",
   "name": "python3"
  },
  "language_info": {
   "codemirror_mode": {
    "name": "ipython",
    "version": 3
   },
   "file_extension": ".py",
   "mimetype": "text/x-python",
   "name": "python",
   "nbconvert_exporter": "python",
   "pygments_lexer": "ipython3",
   "version": "3.8.10"
  },
  "orig_nbformat": 4
 },
 "nbformat": 4,
 "nbformat_minor": 2
}
