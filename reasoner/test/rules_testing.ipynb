{
 "cells": [
  {
   "cell_type": "code",
   "execution_count": 20,
   "metadata": {},
   "outputs": [],
   "source": [
    "import problog\n",
    "import pandas as pd\n",
    "\n",
    "from problog.program import PrologString\n",
    "from problog.core import ProbLog\n",
    "from problog import get_evaluatable\n",
    "from problog.logic import Var, Term\n",
    "from problog.program import SimpleProgram\n",
    "\n",
    "TRIPLE = Term('triple')\n",
    "RELATIONS = _read_relations('/home/karel/Documents/github/thesis/reasoner/test/test_data/relation_ids.del')\n",
    "\n",
    "for key, value in RELATIONS.items():\n",
    "    if value == 'subClassOf':\n",
    "        SUBCLASS = Term(str(key))\n",
    "    elif value == 'type':\n",
    "        TYPE_ = Term(str(key))\n",
    "    elif value == 'domain':\n",
    "        DOMAIN_ = Term(str(key))\n",
    "    elif value == 'range':\n",
    "        RANGE_ = Term(str(key))\n",
    "    elif value == 'subPropertyOf':\n",
    "        SUBPROPERTY = Term(str(key))\n",
    "    else:\n",
    "        pass\n",
    "\n",
    "def _read_relations(file_path):\n",
    "    rel_dict = {}\n",
    "    with open(file_path) as fin:\n",
    "        for line in fin:    \n",
    "            k,v=line.split(sep=None,maxsplit=1)\n",
    "            rel_dict[k]=v.rstrip()\n",
    "    return rel_dict\n",
    "\n",
    "def reasoner_rules(triples):\n",
    "\n",
    "    query = Term('query')\n",
    "\n",
    "    C, C3, C2, C1, X, Y, Z, R, R1, R2, R3 = Var('C'), Var('C3'), Var('C2'), Var('C1'), Var('X'), Var('Y'), Var('Z'), Var('R'), \\\n",
    "                                            Var('R1'), Var('R2'), Var('R3')\n",
    "    rdfs2 = TRIPLE(X, TYPE_, C) << ( TRIPLE(R, DOMAIN_, C) & TRIPLE(X, R, Y) )\n",
    "    rdfs3 = TRIPLE(Y, TYPE_, C) << ( TRIPLE(R, RANGE_, C) & TRIPLE(X, R, Y) )\n",
    "    rdfs5 = TRIPLE(R1, SUBPROPERTY, R3) << ( TRIPLE(R1, SUBPROPERTY, R2) & TRIPLE(R2, SUBPROPERTY, R2) )\n",
    "    rdfs7 = TRIPLE(X, R2, Y) << ( TRIPLE(R1, SUBPROPERTY, R2) & TRIPLE(X, R1, Y) )\n",
    "    rdfs9 = TRIPLE(X, TYPE_, C2) << ( TRIPLE(C1, SUBCLASS, C2) & TRIPLE(X, TYPE_, C1) )\n",
    "    rdfs11 = TRIPLE(C1, SUBCLASS, C3) << ( TRIPLE(C1, SUBCLASS, C2) & TRIPLE(C2, SUBCLASS, C3) )\n",
    "\n",
    "    p = SimpleProgram()\n",
    "\n",
    "    for t in triples:\n",
    "        p += t \n",
    "\n",
    "    p += rdfs2\n",
    "    p += rdfs3\n",
    "    p += rdfs5\n",
    "    p += rdfs7\n",
    "    p += rdfs9\n",
    "    p += rdfs11\n",
    "\n",
    "    p += query(TRIPLE(X, TYPE_, C))\n",
    "    p += query(TRIPLE(Y, TYPE_, C))\n",
    "    p += query(TRIPLE(R1, SUBPROPERTY, R3))\n",
    "    p += query(TRIPLE(X, R2, Y))\n",
    "    p += query(TRIPLE(X, TYPE_, C2))\n",
    "    p += query(TRIPLE(C1, SUBCLASS, C3))\n",
    "\n",
    "    result = get_evaluatable().create_from(p).evaluate()\n",
    "    # for it in result.items() :\n",
    "    #     print ('%s : %s' % (it))\n",
    "    return result"
   ]
  },
  {
   "cell_type": "code",
   "execution_count": 21,
   "metadata": {},
   "outputs": [],
   "source": [
    "def _read_triple(file_path):\n",
    "    triples = []\n",
    "    with open(file_path) as fin:\n",
    "        for line in fin:\n",
    "            h, r, t = line.strip().split('\\t')\n",
    "            triples.append(TRIPLE(Term(h), Term(r), Term(t),p=1.0))\n",
    "    return triples\n"
   ]
  },
  {
   "cell_type": "code",
   "execution_count": 22,
   "metadata": {},
   "outputs": [
    {
     "name": "stdout",
     "output_type": "stream",
     "text": [
      "94\n",
      "21078\n"
     ]
    }
   ],
   "source": [
    "triples = _read_triple(\"/home/karel/Documents/github/thesis/reasoner/test/test_data/train.del\")\n",
    "print(len(RELATIONS))\n",
    "print(len(triples))\n"
   ]
  },
  {
   "cell_type": "code",
   "execution_count": 23,
   "metadata": {},
   "outputs": [],
   "source": [
    "res = reasoner_rules(triples)\n",
    "res"
   ]
  },
  {
   "cell_type": "code",
   "execution_count": 7,
   "metadata": {},
   "outputs": [
    {
     "name": "stdout",
     "output_type": "stream",
     "text": [
      "{7: 'steakhouse', 8: 'restaurant', 9: 'foodEstablishment', 10: 'old_homestead_steakhouse', 11: 'chelsea_manhattan', 1: 'containedInPlace', 13: 'place', 6: 'affiliation', 15: 'memberOf', 16: 'valentyn_symonenko', 17: 'kyiv_national_university_of_trade_and_economics'}\n",
      "{7: 'steakhouse', 8: 'restaurant', 9: 'foodEstablishment', 10: 'old_homestead_steakhouse', 11: 'chelsea_manhattan', 1: 'containedInPlace', 13: 'place', 6: 'affiliation', 15: 'memberOf', 16: 'valentyn_symonenko', 17: 'kyiv_national_university_of_trade_and_economics', 0: 'subclass', 2: 'type', 3: 'domain', 4: 'range', 5: 'subproperty'}\n"
     ]
    }
   ],
   "source": [
    "ids = {}\n",
    "with open(\"/home/karel/Documents/github/thesis/reasoner/test/test_data/entity_ids.del\") as f:\n",
    "    for line in f:\n",
    "       (k, v) = line.split()\n",
    "       ids[int(k)] = v\n",
    "print(ids)\n",
    "\n",
    "relations = {}\n",
    "with open(\"/home/karel/Documents/github/thesis/reasoner/test/test_data/relation_ids.del\") as f:\n",
    "    for line in f:\n",
    "       (k, v) = line.split()\n",
    "       ids[int(k)] = v\n",
    "print(ids)\n",
    "\n",
    "def translate_tripes_to_strings(triple):\n",
    "    for key in triple:\n",
    "        S, P, O = str(key).replace(\"triple(\",\"\").replace(\")\",\"\").split(\",\")\n",
    "        print(ids[int(S)], ids[int(P)], ids[int(O)])"
   ]
  },
  {
   "cell_type": "code",
   "execution_count": 8,
   "metadata": {},
   "outputs": [
    {
     "name": "stdout",
     "output_type": "stream",
     "text": [
      "valentyn_symonenko affiliation kyiv_national_university_of_trade_and_economics\n",
      "affiliation subproperty memberOf\n",
      "valentyn_symonenko memberOf kyiv_national_university_of_trade_and_economics\n",
      "containedInPlace domain place\n",
      "containedInPlace range place\n",
      "old_homestead_steakhouse containedInPlace chelsea_manhattan\n",
      "chelsea_manhattan type place\n",
      "old_homestead_steakhouse type place\n",
      "steakhouse subclass restaurant\n",
      "restaurant subclass foodEstablishment\n",
      "steakhouse subclass foodEstablishment\n",
      "old_homestead_steakhouse type steakhouse\n",
      "old_homestead_steakhouse type restaurant\n",
      "old_homestead_steakhouse type foodEstablishment\n"
     ]
    }
   ],
   "source": [
    "translate_tripes_to_strings(res)"
   ]
  },
  {
   "cell_type": "code",
   "execution_count": null,
   "metadata": {},
   "outputs": [],
   "source": []
  }
 ],
 "metadata": {
  "kernelspec": {
   "display_name": "Python 3.8.10 64-bit",
   "language": "python",
   "name": "python3"
  },
  "language_info": {
   "codemirror_mode": {
    "name": "ipython",
    "version": 3
   },
   "file_extension": ".py",
   "mimetype": "text/x-python",
   "name": "python",
   "nbconvert_exporter": "python",
   "pygments_lexer": "ipython3",
   "version": "3.8.10"
  },
  "orig_nbformat": 4,
  "vscode": {
   "interpreter": {
    "hash": "916dbcbb3f70747c44a77c7bcd40155683ae19c65e1c03b4aa3499c5328201f1"
   }
  }
 },
 "nbformat": 4,
 "nbformat_minor": 2
}
